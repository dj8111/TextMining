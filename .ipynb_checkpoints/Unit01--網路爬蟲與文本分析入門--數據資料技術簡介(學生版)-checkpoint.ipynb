{
 "cells": [
  {
   "cell_type": "markdown",
   "metadata": {},
   "source": [
    "【課程名稱】網路爬蟲與文本分析入門--<font color=#FF0000>使用【 ***R*** 】語言</font><br>\n",
    "【授課講師】[陳祥輝 (email : HsiangHui.Chen@gmail.com)](mailto:HsiangHui.Chen@gmail.com)<br>\n",
    "【facebook】[陳祥輝老師的臉書 (歡迎加好友)](https://goo.gl/osivhx)<br>\n",
    "【相關課程】[東吳推廣數位人才學苑陳祥輝老師的課程表](https://www.ext.scu.edu.tw/courses_search.php?key=陳祥輝)<br>\n",
    "【主要議題】數據資料技術簡介"
   ]
  },
  {
   "cell_type": "markdown",
   "metadata": {},
   "source": [
    "【課程大綱】\n",
    "1. 環境建置、介紹、基本操作與Markdown\n",
    "2. 數據資料技術簡介\n",
    "3. 網路爬蟲技術\n",
    "4. 斷詞斷句與文字雲\n",
    "5. 文本分析\n",
    "6. 階段測驗"
   ]
  },
  {
   "cell_type": "markdown",
   "metadata": {},
   "source": [
    "<a id=Home>【課程重點】</a>\n",
    "1. [e<u>X</u>tensible <u>M</u>arkup <u>L</u>anguage (XML, 可延伸標記式語言)](#XML)\n",
    "2. [<u>J</u>ava<u>S</u>cript <u>O</u>bject <u>N</u>otation (JSON, JavaScript物件表示法)](#JSON)\n",
    "3. [<u>H</u>yper<u>T</u>ext <u>M</u>arkup <u>L</u>anguage (HTML, 超文本標記語言)](#HTML)\n",
    "4. [使用 CSS Selector / XPath 來尋找節點(node / nodes)](#locator)"
   ]
  },
  {
   "cell_type": "code",
   "execution_count": 2,
   "metadata": {},
   "outputs": [],
   "source": [
    "cat('【現在時間】',format(Sys.time(), \"%Y/%m/%d %H:%M%S\"),'\\n')\n",
    "cat('【目前目錄】',getwd(),'\\n')"
   ]
  },
  {
   "cell_type": "code",
   "execution_count": 4,
   "metadata": {},
   "outputs": [],
   "source": [
    "version"
   ]
  },
  {
   "cell_type": "markdown",
   "metadata": {},
   "source": [
    "<font color=#0000FF>【參考資料】</font>\n",
    "- 【XML】\n",
    "    - [Extensible Markup Language (XML)](https://www.w3.org/XML/)\n",
    "- 【JSON】\n",
    "    - JavaScript Object Notation\n",
    "    - [Introducing JSON](https://www.json.org/)\n",
    "- 【HTML與CSS】\n",
    "    - [參考資料HTML & CSS](https://www.w3schools.com/)"
   ]
  },
  {
   "cell_type": "markdown",
   "metadata": {},
   "source": [
    "### <a id=XML><font color=#0000FF>1. Extensible Markup Language (XML)</font></a>\n",
    "- [Best Online XML Viewer](https://codebeautify.org/xmlviewer)\n",
    "- [Best XML Viewer Online](https://jsonformatter.org/xml-viewer)\n",
    "\n",
    "[HOME](#Home)"
   ]
  },
  {
   "cell_type": "markdown",
   "metadata": {},
   "source": [
    "### <a id=JSON><font color=#0000FF>2. JavaScript Object Notation (JSON)</font></a>\n",
    "- [Best JSON Viewer Online](https://jsonformatter.org/json-viewer)\n",
    "\n",
    "[HOME](#Home)"
   ]
  },
  {
   "cell_type": "markdown",
   "metadata": {},
   "source": [
    "### <a id=HTML><font color=#0000FF>3. HTML</font></a>\n",
    "- [w3schools.com](https://www.w3schools.com/)\n",
    "\n",
    "[HOME](#Home)"
   ]
  },
  {
   "cell_type": "markdown",
   "metadata": {},
   "source": [
    "<!DOCTYPE html>\n",
    "<html>\n",
    "    <head>\n",
    "        <title>First HTML</title>\n",
    "    </head>\n",
    "    <body>\n",
    "        I am your first HTML file!\n",
    "    </body>\n",
    "</html>    "
   ]
  },
  {
   "cell_type": "markdown",
   "metadata": {},
   "source": [
    "<img src='Images/Basic Structure of HTML.JPG' width=300 height=300 align=left>HTML的基本樹狀結構</img>"
   ]
  },
  {
   "cell_type": "markdown",
   "metadata": {},
   "source": [
    "### <a id=locator><font color=#0000FF>4. 使用 CSS Selector / XPath 來尋找節點(node / nodes)</font></a>\n",
    "* XPath\n",
    "    * [XPath Tutorial](https://www.w3schools.com/xml/xpath_intro.asp)\n",
    "* CSS Selector    \n",
    "    * [CSS Selector Reference](https://www.w3schools.com/cssref/css_selectors.asp)\n",
    "    * [CSS Selector Tester](https://www.w3schools.com/cssref/trysel.asp)\n",
    "    \n",
    "[HOME](#Home)    "
   ]
  },
  {
   "cell_type": "markdown",
   "metadata": {},
   "source": [
    "#### <font color=#0000FF>【XML Path Language, XPath】</font>\n",
    "\n",
    "- [XPath Tutorial](https://www.w3schools.com/xml/xpath_intro.asp)\n",
    "- [XML XPath的選擇節點語法](http://www.hosp.ncku.edu.tw/mis/48-netdisk/57-xml-xpath.html)\n",
    "\n",
    "---\n",
    "\n",
    "- XPath is an emerging standard for directly accessing one or more nodes in an XML document using a simple filename-like syntax. Electric XML includes a useful subset of XPath functionality, and supports the following special tokens:\n",
    "\n",
    "    - name : matches all nodes on the current level with the specified name\n",
    "    - [n] : matches the nth node on the current level, with n=1 denoting the first node\n",
    "    - name[n] : matches the nth element on the current level with the specified name\n",
    "    - \\* : matches all nodes on the current level\n",
    "    - / : if used as the first character, denotes the top-level document, otherwise denotes moving down a level\n",
    "    - .. : go up one level\n",
    "    - . : the current level\n",
    "    - // : the current level and all sublevels to any depth\n",
    "    - [@key='value'] : all elements with an attribute that matches the specified key/value pair\n",
    "    - name[@key='value'] : all elements with the specified name and an attribute that matches the specified key/value pair\n",
    "    - [text()='value'] : all elements with the specified text\n",
    "    - name[text()='value'] : all elements with the specified name and text\n",
    "    - @name : the attribute with the specified name\n",
    "    - @* : all attributes\n",
    "\n",
    "[HOME](#Home)"
   ]
  },
  {
   "cell_type": "code",
   "execution_count": 1,
   "metadata": {},
   "outputs": [],
   "source": [
    "library(rvest)"
   ]
  },
  {
   "cell_type": "code",
   "execution_count": 2,
   "metadata": {},
   "outputs": [],
   "source": [
    "xml.txt <- \n",
    "'<?xml version=\"1.0\" encoding=\"UTF-8\"?>\n",
    "<bookstore>\n",
    "    <book>\n",
    "      <title>SQL Server 2014專業開發與設計</title>\n",
    "      <author>陳祥輝</author>\n",
    "      <year>2015</year>\n",
    "      <price>680</price>\n",
    "    </book>\n",
    "    <book>\n",
    "      <title>Oracle PL/SQL程式設計(暢銷回饋版)</title>\n",
    "      <author>陳祥輝</author>\n",
    "      <year>2016</year>\n",
    "      <price>580</price>\n",
    "    </book>\n",
    "    <book>\n",
    "      <title>SQL Server效能調校(暢銷修訂版)</title>\n",
    "      <author>陳祥輝</author>\n",
    "      <author>陳臆如</author>\n",
    "      <author>黃浩</author>\n",
    "      </author>\n",
    "      <year>2017</year>\n",
    "      <price>450</price>\n",
    "    </book>\n",
    "</bookstore>\n",
    "'"
   ]
  },
  {
   "cell_type": "code",
   "execution_count": 3,
   "metadata": {},
   "outputs": [],
   "source": [
    "webpage <- \n",
    "'<html>\n",
    "  <head>\n",
    "<title>這裡是放網頁的標題</title>\n",
    "<style>\n",
    ".container1 {\n",
    "color:blue;\n",
    "text-align: center;\n",
    "}\n",
    ".container2 {\n",
    "color:red;\n",
    "text-align: left;\n",
    "}\n",
    "</style>\n",
    "</head>\n",
    "\n",
    "<body>\n",
    "<div class=container1>\n",
    "<p>網頁內容(X)</p>\n",
    "<p>\n",
    "<ul>\n",
    "<li>X第一個項目</li>\n",
    "<li>X第二個項目</li>\n",
    "<li>X第三個項目</li>\n",
    "</ul>\n",
    "</p>\n",
    "<p>\n",
    "<table>\n",
    "<tr><th>X1</th><th>X2</th><th>X3</th></tr>\n",
    "<tr><td>X(1,1)</td><td>X(1,2)</td><td>X(1,3)</td></tr>\n",
    "<tr><td>X(2,1)</td><td>X(2,2)</td><td>X(2,3)</td></tr>\n",
    "<tr><td>X(3,1)</td><td>X(3,2)</td><td>X(3,3)</td></tr>\n",
    "<tr><td>X(4,1)</td><td>X(4,2)</td><td>X(4,3)</td></tr>\n",
    "</table>\n",
    "</p>\n",
    "</div>\n",
    "<div class=container2>\n",
    "<p>網頁內容(Y)</p>\n",
    "<p>\n",
    "<ul>\n",
    "<li>Y第一個項目</li>\n",
    "<li>Y第二個項目</li>\n",
    "<li>Y第三個項目</li>\n",
    "</ul>\n",
    "</p>\n",
    "<p>\n",
    "<table>\n",
    "<tr><th>Y1</th><th>Y2</th><th>Y3</th></tr>\n",
    "<tr><td>Y(1,1)</td><td>Y(1,2)</td><td>Y(1,3)</td></tr>\n",
    "<tr><td>Y(2,1)</td><td>Y(2,2)</td><td>Y(2,3)</td></tr>\n",
    "<tr><td>Y(3,1)</td><td>Y(3,2)</td><td>Y(3,3)</td></tr>\n",
    "<tr><td>Y(4,1)</td><td>Y(4,2)</td><td>Y(4,3)</td></tr>\n",
    "</table>\n",
    "</p>\n",
    "<p id=\"p1\">我是段落一</p>\n",
    "<p id=\"p2\">我是段落二</p>\n",
    "</div>\n",
    "</body>\n",
    "</html>'"
   ]
  },
  {
   "cell_type": "markdown",
   "metadata": {},
   "source": [
    "<img src=\"Images/HTML與CSS基本架構.jpg\" width=700 height=550 align=left></img>"
   ]
  },
  {
   "cell_type": "markdown",
   "metadata": {},
   "source": [
    "#### <font color=#0000FF>4-1. 使用 XPath--讀取XML</font>"
   ]
  },
  {
   "cell_type": "code",
   "execution_count": null,
   "metadata": {},
   "outputs": [],
   "source": []
  },
  {
   "cell_type": "code",
   "execution_count": null,
   "metadata": {},
   "outputs": [],
   "source": []
  },
  {
   "cell_type": "code",
   "execution_count": null,
   "metadata": {},
   "outputs": [],
   "source": []
  },
  {
   "cell_type": "markdown",
   "metadata": {},
   "source": [
    "#### <font color=#0000FF>4-2. 使用 XPath--讀取HTML</font>"
   ]
  },
  {
   "cell_type": "code",
   "execution_count": null,
   "metadata": {},
   "outputs": [],
   "source": []
  },
  {
   "cell_type": "code",
   "execution_count": null,
   "metadata": {},
   "outputs": [],
   "source": []
  },
  {
   "cell_type": "code",
   "execution_count": null,
   "metadata": {},
   "outputs": [],
   "source": []
  },
  {
   "cell_type": "markdown",
   "metadata": {},
   "source": [
    "#### <font color=#0000FF>4-3. 使用 CSS Selector讀取HTML</font>"
   ]
  },
  {
   "cell_type": "markdown",
   "metadata": {},
   "source": [
    "##### <font color=#0000FF>4-3-1 讀取HTML</font>"
   ]
  },
  {
   "cell_type": "code",
   "execution_count": null,
   "metadata": {},
   "outputs": [],
   "source": []
  },
  {
   "cell_type": "markdown",
   "metadata": {},
   "source": [
    "##### <font color=#0000FF>4-3-2 選取nodes</font>"
   ]
  },
  {
   "cell_type": "code",
   "execution_count": null,
   "metadata": {},
   "outputs": [],
   "source": []
  },
  {
   "cell_type": "markdown",
   "metadata": {},
   "source": [
    "##### <font color=#0000FF>4-3-3 取出nodes內的文字(text)</font>"
   ]
  },
  {
   "cell_type": "code",
   "execution_count": null,
   "metadata": {},
   "outputs": [],
   "source": []
  },
  {
   "cell_type": "markdown",
   "metadata": {},
   "source": [
    "##### <font color=#0000FF>4-3-4 取得 table 的資料</font>"
   ]
  },
  {
   "cell_type": "code",
   "execution_count": null,
   "metadata": {},
   "outputs": [],
   "source": []
  },
  {
   "cell_type": "markdown",
   "metadata": {},
   "source": [
    "##### <font color=#0000FF>4-3-5 取得 attribute(s) 的值</font>"
   ]
  },
  {
   "cell_type": "code",
   "execution_count": null,
   "metadata": {},
   "outputs": [],
   "source": []
  },
  {
   "cell_type": "code",
   "execution_count": null,
   "metadata": {},
   "outputs": [],
   "source": []
  }
 ],
 "metadata": {
  "kernelspec": {
   "display_name": "R",
   "language": "R",
   "name": "ir"
  },
  "language_info": {
   "codemirror_mode": "r",
   "file_extension": ".r",
   "mimetype": "text/x-r-source",
   "name": "R",
   "pygments_lexer": "r",
   "version": "3.5.1"
  }
 },
 "nbformat": 4,
 "nbformat_minor": 2
}
